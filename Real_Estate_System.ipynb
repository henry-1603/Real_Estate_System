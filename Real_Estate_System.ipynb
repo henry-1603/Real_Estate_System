f = open("PropDetails.txt", "w+")
f.writelines(["House No.", "    ", "Buyer Name", "    ", "Type", "    ", "Mode Of Payment\n"])


class Property:
    def __init__(self):
        self.free_prop = {"For Rent": [1, 4, 7, 10, 13], "For Selling": [2, 5, 8, 11, 14]}
        self.sold_prop = {3: "Naresh Jain", 6: "Kalpesh Shah", 9: "Pranshu Patel", 12: "Prasham Shah", 15: "Aryan Vasani"}
        self.price_prop = {}
        self.pricing()

    def pricing(self):
        for i in range(5):
            self.price_prop[self.free_prop["For Rent"][i]] = 10000
            self.price_prop[self.free_prop["For Selling"][i]] = 12000000

    def display(self):
        print(self.free_prop)
        print()
        print(self.sold_prop)
        print()
        print(self.price_prop)

        # ////////////////////////////////  PROPERTY CLASS END ///////////////////////////


class User(Property):
    def __init__(self):
        self.prop_details = {}
        Property.__init__(self)

    def choose_your_type(self):
        print("\n---CUSTOMER DETAILS---")
        name = input("Enter your Name : ")
        mob = int(input("Enter your Mobile no. : "))
        while True:
            choice = int(input("\n---WELCOME---\n1.To Rent House\n2.To Buy House\n3.Visit Again!!\nWhat would you like to do ? : "))
            if choice == 1:
                self.rent_home(name, mob)
                choice = int(input("\nFurthermore, what would you like to do ?\n1.Buy/Rent Property\n2.Exit : "))
                if choice == 1:
                    pass
                else:
                    break
            elif choice == 2:
                self.buy_homes(name, mob)
                choice = int(input("\nFurthermore, what would you like to do ?\n1.Buy/Rent Property\n2.Exit : "))
                if choice == 1:
                    pass
                else:
                    break
            elif choice == 3:
                break

    def rent_home(self, name, mob):
        print(f"\nHere Are Properties, Available For Rent : {self.free_prop['For Rent']}")
        house_no = int(input("Enter your favourite house number from the list to Finalize It : "))
        if house_no in self.free_prop["For Rent"]:
            print("\nRent per month for the house no. ", house_no, " is : ", self.price_prop[house_no])
            choice = input("Do You Want To Finalize It (Y/N) : ")
            while True:
                if choice == "Y" or choice == "y":
                    print("\nPay 10% Rent As Token i.e ", self.price_prop[house_no] * 0.1, "/-")
                    print("Remaining amount to be paid : ", self.price_prop[house_no] * 0.9)
                    final = input("Continue ?(Y?N) : ")
                    if (final == "Y" or final == "y"):
                        print("\nCongratulations!The House Is Yours")
                        print("The confirmation of the same has been sent to your mobile number : ", mob)
                        self.prop_details[house_no] = name
                        self.free_prop["For Rent"].remove(house_no)
                        self.sold_prop[house_no] = name
                        del self.price_prop[house_no]
                        f.writelines(
                            ["   ", str(house_no), "          ", name, "        ", "Rent", "         ", "Cash\n"])
                        f.write("\n")
                        print(self.prop_details)
                        break
                    else:
                        print("\nPlease Continue to confirm your House Booking")
                elif choice == "N" or choice == "n":
                    print("\nThank You For The Visit!!")
                    break
                else:
                    print("\nEnter Correct Initial")
                    break

    def buy_homes(self, name, mob):
        print(f"\nHere Are Properties, Available For Buying :- {self.free_prop['For Selling']}")
        house_no = int(input("Enter your favourite house number from the list to Finalize It : "))
        if house_no in self.free_prop["For Selling"]:
            print("\nPrice for the house no ", house_no, " is : ", self.price_prop[house_no])
            choice = input("Do You Want To Finalize It (Y/N) : ").lower()
            while True:
                if choice == "Y" or choice == "y":
                    print("\nPay 10% Price As Token i.e ", (self.price_prop[house_no] * 0.1), "/-")
                    choice = input("Enter your choice for the remaining payment (Cash / EMI) : ").lower()
                    if (choice == "cash"):
                        print("\nAmount remaining to finalize : ", (self.price_prop[house_no] * 0.9), "/-")
                        final = input("Continue ? :")
                        if (final == 'y' or final == 'Y'):
                            print("\nCongratulations!The House Is Yours")
                            print("The confirmation of the same has been sent to your mobile number : ", mob)
                            self.prop_details[house_no] = name
                            self.free_prop["For Selling"].remove(house_no)
                            self.sold_prop[house_no] = name
                            del self.price_prop[house_no]
                            f.writelines(
                                ["   ", str(house_no), "          ", name, "        ", "Bought", "        ", "Cash\n"])
                            f.write("\n")
                            print(self.prop_details)
                            break
                        else:
                            print("\nPlease Continue to confirm your house booking")
                            break
                    elif choice == 'emi':
                        print("\nYour EMI at 5% Interest For 12 Month Is 92500/- Per Month ")
                        final = input("Continue ? :")
                        if (final == 'y' or final == 'Y'):
                            print("\nCongratulations!The House Is Yours")
                            print("The confirmation of the same has been sent to your mobile number : ", mob)
                            self.prop_details[house_no] = name
                            self.free_prop["For Selling"].remove(house_no)
                            self.sold_prop[house_no] = name
                            del self.price_prop[house_no]
                            f.writelines(
                                ["   ", str(house_no), "          ", name, "        ", "Bought", "        ", "EMI\n"])
                            f.write("\n")
                            print(self.prop_details)
                            break
                        else:
                            break
                elif choice == "N" or choice == "n":
                    print("\nThank You For The Visit!!")
                    break
                else:
                    print("\nEnter Correct Initial")
                    break

        else:
            print("House Not Available!!")

            # ////////////////////////////////  USER CLASS END ///////////////////////////


class Admin(User, Property):
    def __init__(self):
        self.username = "admin"
        self.password = "manager"
        super().__init__()

    def check(self):
        """For Validation Of Credentials Of Admin"""
        while True:
            usern1 = input("Enter Username :- ")
            if (usern1 == self.username):
                pass1 = input("Enter Password :- ")
                if (pass1 == self.password):
                    print("\n---WELCOME---\n")
                    break
                else:
                    print("Incorrect Password")

            else:
                print("Invalid Username!!")

    def add_property(self):
        while True:
            choice = int(input("1.Rent Houses\n2.Selling Houses\n3.Stop Adding\nSelect Type Of Property To Add : "))
            if choice == 1:
                print(
                    f"\nAlready Available Houses : {self.free_prop['For Rent']} {self.free_prop['For Selling']} {list(self.sold_prop.keys())}")
                num = int(input("Enter House Number to Add : "))
                if (num in list(self.sold_prop.keys())) or (num in self.free_prop['For Selling']) or (
                        num in self.free_prop['For Rent']):
                    print("House is already Registered! Please Enter Another Number")
                else:
                    self.free_prop["For Rent"].append(num)
                    self.price_prop[self.free_prop["For Rent"][len(self.free_prop["For Rent"]) - 1]] = 10000
            elif choice == 2:
                print(
                    f"\nAlready Available Houses : {self.free_prop['For Rent']} {self.free_prop['For Selling']} {list(self.sold_prop.keys())}")
                num = int(input("\nEnter House Number to Add : "))
                if (num in list(self.sold_prop.keys())) or (num in self.free_prop['For Selling']) or (
                        num in self.free_prop['For Rent']):
                    print("House is already Registered! Please Enter Another Number")
                else:
                    print(f"\nAlready Available Houses : {self.free_prop['For Rent']} {self.free_prop['For Selling']}")
                    self.free_prop["For Selling"].append(num)
                    self.price_prop[self.free_prop["For Selling"][len(self.free_prop["For Selling"]) - 1]] = 12000000
            elif choice == 3:
                break
            else:
                print("\nEnter Valid Choice!!")

    def remove_property(self):
        while True:
            choice = int(input("\n1.Rent Houses\n2.Selling Houses\n3.Stop Removing\nSelect Type Of Property To Remove : "))
            if choice == 1:
                print(f"\nAlready Available Houses : {self.free_prop['For Rent']} {list(self.sold_prop.keys())}")
                num = int(input("Enter House Number to Add : "))
                if (num in self.free_prop['For Rent']):
                    self.free_prop["For Rent"].remove(num)
                    del self.price_prop[num]
                else:
                    print("House Not Available to remove from list")
            elif choice == 2:
                print(f"\nAlready Available Houses : {self.free_prop['For Selling']}")
                num = int(input("Enter House Number to Add : "))
                if num in self.free_prop['For Selling']:
                    self.free_prop["For Selling"].remove(num)
                    del self.price_prop[num]
                else:
                    print("House Not Available to remove from list")
            elif choice == 3:
                break
            else:
                print("Enter Valid Choice!!")

            # ////////////////////////////////  ADMIN CLASS END ///////////////////////////


print("------------W E L C O M E------------")
print("____GRAVV REAL ESTATE CONSULTANCY____")
prop1 = Property()
a1 = Admin()
c1 = User()

# TO UPDATE DATA TO ADMIN

a1.free_prop = c1.free_prop
a1.price_prop = c1.price_prop
a1.prop_details = c1.prop_details
a1.sold_prop = c1.sold_prop

while True:
    choose_type = int(input("1.Admin\n2.User\n3.Exit\nEnter As : "))
    if choose_type == 1:
        a1.check()
        while True:
            choice = int(input("1.Add Property\n2.Remove Property\n3.View All House Details\n4.Log Out\nEnter your choice: "))
            if choice == 1:
                a1.add_property()
            elif choice == 2:
                a1.remove_property()
            elif choice == 3:
                a1.display()
            else:
                break
    elif choose_type == 2:
        c1.choose_your_type()
    else:
        break

f.close()
